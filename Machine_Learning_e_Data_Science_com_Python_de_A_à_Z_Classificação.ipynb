{
  "nbformat": 4,
  "nbformat_minor": 0,
  "metadata": {
    "colab": {
      "name": "Machine Learning e Data Science com Python de A à Z - Classificação",
      "provenance": [],
      "authorship_tag": "ABX9TyOmtIX6q9xDwmm4ZK4UfMHt",
      "include_colab_link": true
    },
    "kernelspec": {
      "name": "python3",
      "display_name": "Python 3"
    },
    "language_info": {
      "name": "python"
    }
  },
  "cells": [
    {
      "cell_type": "markdown",
      "metadata": {
        "id": "view-in-github",
        "colab_type": "text"
      },
      "source": [
        "<a href=\"https://colab.research.google.com/github/wendleypf/Machine-Learning-e-Data-Science-com-Python-de-A-a-Z/blob/master/Machine_Learning_e_Data_Science_com_Python_de_A_%C3%A0_Z_Classifica%C3%A7%C3%A3o.ipynb\" target=\"_parent\"><img src=\"https://colab.research.google.com/assets/colab-badge.svg\" alt=\"Open In Colab\"/></a>"
      ]
    },
    {
      "cell_type": "markdown",
      "metadata": {
        "id": "sWJ8XfLIXcHb"
      },
      "source": [
        "# Machine Learning e Data Science com Python de A à Z (Classificacão) - IA Expert Academy"
      ]
    }
  ]
}